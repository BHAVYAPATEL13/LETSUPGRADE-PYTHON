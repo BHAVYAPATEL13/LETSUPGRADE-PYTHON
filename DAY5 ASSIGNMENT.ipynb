{
 "cells": [
  {
   "cell_type": "markdown",
   "metadata": {},
   "source": [
    "# ASSIGNMENT1"
   ]
  },
  {
   "cell_type": "code",
   "execution_count": 1,
   "metadata": {},
   "outputs": [
    {
     "name": "stdout",
     "output_type": "stream",
     "text": [
      "It's match\n"
     ]
    },
    {
     "data": {
      "text/plain": [
       "[]"
      ]
     },
     "execution_count": 1,
     "metadata": {},
     "output_type": "execute_result"
    }
   ],
   "source": [
    "x = [1,5,6,3,1,4,6,5,7,8,5]\n",
    "y = [1,1,5]\n",
    "\n",
    "def check(a,b):\n",
    "    for i in a:\n",
    "        for j in b:\n",
    "            if(len(b)>=0 and j==i):\n",
    "                b.pop(0)\n",
    "            else:\n",
    "                break\n",
    "    return b\n",
    "\n",
    "if len(check(x,y))==0:\n",
    "    print(\"It's match\")\n",
    "else:\n",
    "    print(\"It's gone\")\n",
    "    \n",
    "check(x,y)    "
   ]
  },
  {
   "cell_type": "markdown",
   "metadata": {},
   "source": [
    "# ASSIGNMENT3"
   ]
  },
  {
   "cell_type": "code",
   "execution_count": 2,
   "metadata": {},
   "outputs": [
    {
     "name": "stdout",
     "output_type": "stream",
     "text": [
      "['Hey this is bhavya, i am in vadodara']\n"
     ]
    }
   ],
   "source": [
    "string= [\"hey this is bhavya, i am in vadodara\"]\n",
    "cap = list(map(lambda x: x.capitalize(), string))\n",
    "print(cap)"
   ]
  },
  {
   "cell_type": "code",
   "execution_count": null,
   "metadata": {},
   "outputs": [],
   "source": []
  }
 ],
 "metadata": {
  "kernelspec": {
   "display_name": "Python 3",
   "language": "python",
   "name": "python3"
  },
  "language_info": {
   "codemirror_mode": {
    "name": "ipython",
    "version": 3
   },
   "file_extension": ".py",
   "mimetype": "text/x-python",
   "name": "python",
   "nbconvert_exporter": "python",
   "pygments_lexer": "ipython3",
   "version": "3.8.3"
  }
 },
 "nbformat": 4,
 "nbformat_minor": 4
}
